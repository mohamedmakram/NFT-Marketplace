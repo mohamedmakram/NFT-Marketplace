{
  "metadata": {
    "kernelspec": {
      "language": "python",
      "display_name": "Python 3",
      "name": "python3"
    },
    "language_info": {
      "name": "python",
      "version": "3.7.12",
      "mimetype": "text/x-python",
      "codemirror_mode": {
        "name": "ipython",
        "version": 3
      },
      "pygments_lexer": "ipython3",
      "nbconvert_exporter": "python",
      "file_extension": ".py"
    },
    "colab": {
      "name": "price-prediction_using images_Kaggle.ipynb",
      "provenance": []
    }
  },
  "nbformat_minor": 0,
  "nbformat": 4,
  "cells": [
    {
      "cell_type": "markdown",
      "source": [
        "## Defining the Problem"
      ],
      "metadata": {
        "id": "5-Ohbu4-dpg7"
      }
    },
    {
      "cell_type": "markdown",
      "source": [
        "this notebook has been created on kaggle were the dataset is located so you have to import it to kaggle"
      ],
      "metadata": {
        "id": "zgdDg291mmRk"
      }
    },
    {
      "cell_type": "markdown",
      "source": [
        "# analysis"
      ],
      "metadata": {
        "id": "k4K_l_uXdtAS"
      }
    },
    {
      "cell_type": "markdown",
      "source": [
        "### import library"
      ],
      "metadata": {
        "id": "ftQF6G9SdtAU"
      }
    },
    {
      "cell_type": "code",
      "source": [
        "import pandas as pd\n",
        "import numpy as np\n",
        "import os\n",
        "\n",
        "from tqdm.notebook import tqdm\n",
        "from PIL import Image\n",
        "\n",
        "from ast import literal_eval\n",
        "\n",
        "\n",
        "\n",
        "\n",
        "df = pd.read_csv('../input/nft-art-dataset/dataset/dataset.csv')\n",
        "df.head()"
      ],
      "metadata": {
        "id": "3nm-GzeaFxhj",
        "execution": {
          "iopub.status.busy": "2022-06-15T01:56:20.847897Z",
          "iopub.execute_input": "2022-06-15T01:56:20.849831Z",
          "iopub.status.idle": "2022-06-15T01:56:21.090478Z",
          "shell.execute_reply.started": "2022-06-15T01:56:20.849706Z",
          "shell.execute_reply": "2022-06-15T01:56:21.089547Z"
        },
        "trusted": true
      },
      "execution_count": null,
      "outputs": []
    },
    {
      "cell_type": "markdown",
      "source": [
        "creating new dataset with images only"
      ],
      "metadata": {
        "id": "e3JjB6L4dtAc"
      }
    },
    {
      "cell_type": "code",
      "source": [
        "df_img = df[df['type'] == 'PHOTO']\n",
        "df_img.head()"
      ],
      "metadata": {
        "execution": {
          "iopub.status.busy": "2022-06-15T01:56:21.092654Z",
          "iopub.execute_input": "2022-06-15T01:56:21.093255Z",
          "iopub.status.idle": "2022-06-15T01:56:21.126599Z",
          "shell.execute_reply.started": "2022-06-15T01:56:21.093202Z",
          "shell.execute_reply": "2022-06-15T01:56:21.125624Z"
        },
        "trusted": true,
        "id": "DfVtciwidtAd"
      },
      "execution_count": null,
      "outputs": []
    },
    {
      "cell_type": "markdown",
      "source": [
        "# Data Preprocessing\n",
        "\n",
        "We have image and text data.\n",
        "\n",
        "* Image data: resize\n",
        "* Text data: tokenization and converting to integer IDs\n"
      ],
      "metadata": {
        "id": "5Lt84JeWdtAe"
      }
    },
    {
      "cell_type": "code",
      "source": [
        "# preprocess image 500ta\n",
        "import os\n",
        "from PIL import Image\n",
        "\n",
        "def load_image(file):\n",
        "\n",
        "    try:\n",
        "        image = Image.open('../input/nft-art-dataset' + \n",
        "            file[1:]\n",
        "        ).convert('LA').resize((64, 64))\n",
        "        arr = np.array(image)\n",
        "    except:\n",
        "        arr = np.zeros((64, 64, 2))\n",
        "    return arr\n",
        "\n",
        "# loading images:\n",
        "x_train_image = np.array([load_image(i) for i in tqdm(df_img.path)])\n",
        "\n",
        "# loading overview: (force convert some of the non-string cell to string)\n",
        "x_train_text = df_img.art_series.astype('str')\n",
        "\n",
        "# get price \n",
        "y_train_price = df_img.price\n",
        "\n",
        "# get nsfw\n",
        "\n",
        "y_train_nsfw = df_img.nsfw.astype(int)"
      ],
      "metadata": {
        "execution": {
          "iopub.status.busy": "2022-06-15T01:56:21.128927Z",
          "iopub.execute_input": "2022-06-15T01:56:21.129339Z",
          "iopub.status.idle": "2022-06-15T02:14:46.119766Z",
          "shell.execute_reply.started": "2022-06-15T01:56:21.129294Z",
          "shell.execute_reply": "2022-06-15T02:14:46.118636Z"
        },
        "trusted": true,
        "id": "8byWN5XAdtAf"
      },
      "execution_count": null,
      "outputs": []
    },
    {
      "cell_type": "code",
      "source": [
        "import matplotlib.pyplot as plt\n",
        "plt.imshow(x_train_image[0, :, :, 0])"
      ],
      "metadata": {
        "execution": {
          "iopub.status.busy": "2022-06-15T02:14:46.123159Z",
          "iopub.execute_input": "2022-06-15T02:14:46.123827Z",
          "iopub.status.idle": "2022-06-15T02:14:46.363465Z",
          "shell.execute_reply.started": "2022-06-15T02:14:46.123780Z",
          "shell.execute_reply": "2022-06-15T02:14:46.362827Z"
        },
        "trusted": true,
        "id": "SONuNL0edtAh"
      },
      "execution_count": null,
      "outputs": []
    },
    {
      "cell_type": "markdown",
      "source": [
        "# Text Preprocessing"
      ],
      "metadata": {
        "id": "RYI_gXJGdtAi"
      }
    },
    {
      "cell_type": "code",
      "source": [
        "# preprocess text data\n",
        "\n",
        "from tensorflow.keras.preprocessing.text import Tokenizer\n",
        "from tensorflow.keras.preprocessing.sequence import pad_sequences\n",
        "from sklearn.model_selection import train_test_split\n",
        "from pprint import pprint\n",
        "\n",
        "vocab_size = 40000\n",
        "max_len = 100\n",
        "\n",
        "\n",
        "# build vocabulary from training set\n",
        "tokenizer = Tokenizer(num_words=vocab_size)\n",
        "tokenizer.fit_on_texts(x_train_text)\n",
        "\n",
        "\n",
        "def _preprocess(list_of_text):\n",
        "    return pad_sequences(\n",
        "        tokenizer.texts_to_sequences(list_of_text),\n",
        "        maxlen=max_len,\n",
        "        padding='post',\n",
        "    )\n",
        "    \n",
        "\n",
        "# padding is done inside: \n",
        "x_train_text_id = _preprocess(x_train_text)\n",
        "\n",
        "print(x_train_text_id.shape)"
      ],
      "metadata": {
        "execution": {
          "iopub.status.busy": "2022-06-15T02:14:46.364382Z",
          "iopub.execute_input": "2022-06-15T02:14:46.364922Z",
          "iopub.status.idle": "2022-06-15T02:14:53.689186Z",
          "shell.execute_reply.started": "2022-06-15T02:14:46.364888Z",
          "shell.execute_reply": "2022-06-15T02:14:53.688294Z"
        },
        "trusted": true,
        "id": "ZDbeSmssdtAi"
      },
      "execution_count": null,
      "outputs": []
    },
    {
      "cell_type": "code",
      "source": [
        "# we can use the tokenizer to convert IDs to words.\n",
        "pprint(tokenizer.sequences_to_texts(x_train_text_id[:10]))"
      ],
      "metadata": {
        "execution": {
          "iopub.status.busy": "2022-06-15T02:14:53.690605Z",
          "iopub.execute_input": "2022-06-15T02:14:53.691036Z",
          "iopub.status.idle": "2022-06-15T02:14:53.703105Z",
          "shell.execute_reply.started": "2022-06-15T02:14:53.690994Z",
          "shell.execute_reply": "2022-06-15T02:14:53.702019Z"
        },
        "trusted": true,
        "id": "ByLfz1EjdtAj"
      },
      "execution_count": null,
      "outputs": []
    },
    {
      "cell_type": "code",
      "source": [
        ""
      ],
      "metadata": {
        "trusted": true,
        "id": "PotvJ5wkdtAk"
      },
      "execution_count": null,
      "outputs": []
    },
    {
      "cell_type": "markdown",
      "source": [
        "# Building model"
      ],
      "metadata": {
        "id": "6OoYrZwmdtAk"
      }
    },
    {
      "cell_type": "markdown",
      "source": [
        "# Trial 1"
      ],
      "metadata": {
        "id": "C5z2fFrtfs5w"
      }
    },
    {
      "cell_type": "markdown",
      "source": [
        "# image regression"
      ],
      "metadata": {
        "id": "tQ7hUTZKdtA8"
      }
    },
    {
      "cell_type": "code",
      "source": [
        "from __future__ import absolute_import, division, print_function, unicode_literals\n",
        "import collections\n",
        "import matplotlib.pyplot as plt\n",
        "import numpy as np\n",
        "import tensorflow as tf\n",
        "from tensorflow import keras\n",
        "from tensorflow.keras.layers import Conv2D, Flatten, Dense, MaxPool2D\n",
        "from tensorflow.keras.optimizers import Adam\n",
        "from tensorflow.keras.layers import MultiHeadAttention\n",
        "from tensorflow.keras.layers import GlobalAveragePooling2D, Rescaling\n",
        "from tensorflow.keras.layers import Dropout\n",
        "from tensorflow.keras.layers import Bidirectional\n",
        "from tensorflow.keras.layers import GRU\n",
        "\n",
        "\n",
        "in_text = keras.Input(batch_shape=(None, max_len))\n",
        "in_image = keras.Input(batch_shape=(None, 64, 64, 2))\n",
        "\n",
        "# text part\n",
        "# simple average of embedding. you can change it to anything else as needed\n",
        "embedded = keras.layers.Embedding(tokenizer.num_words, 100)(in_text)\n",
        "\n",
        "# adding GRU layer after embedding layer and\n",
        "attention = MultiHeadAttention(num_heads=2, key_dim=2)(embedded, embedded)\n",
        "bi_lstm = Bidirectional(GRU(50, recurrent_regularizer='l2'))(attention)\n",
        "\n",
        "\n",
        "scaling = Rescaling(1./127.5, offset=-1)(in_image) # rescaling\n",
        "pl = GlobalAveragePooling2D()(scaling) # global average pooling, pretty much the same as flattening\n",
        "do = Dropout(0.2)(pl) # dropout at a rate of 20%\n",
        "fl = Flatten()(do)\n",
        "\n",
        "# image part \n",
        "# simple conv2d. you can change it to anything else as needed\n",
        "cov = Conv2D(32, (16, 16))(in_image)\n",
        "pl = MaxPool2D((16, 16))(cov)\n",
        "flattened = Flatten()(pl)\n",
        "\n",
        "\n",
        "# fusion - combinig both\n",
        "fused = tf.concat([bi_lstm, flattened], axis=-1)\n",
        "\n",
        "# multi-task learning (each is a multi-class classification)\n",
        "# one dense layer for each task\n",
        "p_price = Dense(1, activation='linear', name='price')(fused)\n",
        "\n",
        "\n",
        "# define model input/output using keys.\n",
        "bi_lstm_model = keras.Model(\n",
        "    inputs={\n",
        "        'ِart_series': in_text,\n",
        "        'image': in_image\n",
        "    },\n",
        "    outputs={\n",
        "        'price': p_price,\n",
        "\n",
        "    }\n",
        ")\n",
        "\n",
        "\n",
        "# compile model with optimizer, loss values for each task, loss \n",
        "# weights for each task.\n",
        "bi_lstm_model.compile(\n",
        "    optimizer=Adam(),\n",
        "    loss={\n",
        "        'price': 'mean_squared_error',\n",
        "    },\n",
        "    loss_weights={\n",
        "        'price': 0.5,       \n",
        "    },\n",
        "    metrics={\n",
        "        'price': ['mse'],\n",
        "    },\n",
        ")\n",
        "\n",
        "\n",
        "bi_lstm_model.summary()"
      ],
      "metadata": {
        "execution": {
          "iopub.status.busy": "2022-06-15T02:25:38.877461Z",
          "iopub.execute_input": "2022-06-15T02:25:38.878585Z",
          "iopub.status.idle": "2022-06-15T02:25:39.665395Z",
          "shell.execute_reply.started": "2022-06-15T02:25:38.878539Z",
          "shell.execute_reply": "2022-06-15T02:25:39.664449Z"
        },
        "trusted": true,
        "id": "tzOzYFjtdtA8"
      },
      "execution_count": null,
      "outputs": []
    },
    {
      "cell_type": "markdown",
      "source": [
        ""
      ],
      "metadata": {
        "id": "or2_PaTFdtA9"
      }
    },
    {
      "cell_type": "code",
      "source": [
        "history = bi_lstm_model.fit(\n",
        "    x={\n",
        "        'image': x_train_image\n",
        "    },\n",
        "    y={\n",
        "        'price': y_train_price_log\n",
        "    },\n",
        "    epochs=20,\n",
        "    batch_size=16,\n",
        "    validation_split=0.2,\n",
        "    callbacks=[\n",
        "        tf.keras.callbacks.EarlyStopping(monitor='val_loss', patience=5, )\n",
        "    ],\n",
        "    verbose=1\n",
        ")"
      ],
      "metadata": {
        "execution": {
          "iopub.status.busy": "2022-06-15T03:17:24.857058Z",
          "iopub.execute_input": "2022-06-15T03:17:24.857468Z",
          "iopub.status.idle": "2022-06-15T03:18:28.476569Z",
          "shell.execute_reply.started": "2022-06-15T03:17:24.857432Z",
          "shell.execute_reply": "2022-06-15T03:18:28.475669Z"
        },
        "trusted": true,
        "id": "14806n_XdtA9"
      },
      "execution_count": null,
      "outputs": []
    },
    {
      "cell_type": "code",
      "source": [
        ""
      ],
      "metadata": {
        "trusted": true,
        "id": "PTjdxvHYdtA-"
      },
      "execution_count": null,
      "outputs": []
    },
    {
      "cell_type": "markdown",
      "source": [
        "# images only predict price"
      ],
      "metadata": {
        "id": "isV2FjtAdtA-"
      }
    },
    {
      "cell_type": "code",
      "source": [
        "from __future__ import absolute_import, division, print_function, unicode_literals\n",
        "import collections\n",
        "import matplotlib.pyplot as plt\n",
        "import numpy as np\n",
        "import tensorflow as tf\n",
        "from tensorflow import keras\n",
        "from tensorflow.keras.layers import Conv2D, Flatten, Dense, MaxPool2D\n",
        "from tensorflow.keras.optimizers import Adam\n",
        "from tensorflow.keras.layers import MultiHeadAttention\n",
        "from tensorflow.keras.layers import GlobalAveragePooling2D, Rescaling\n",
        "from tensorflow.keras.layers import Dropout\n",
        "from tensorflow.keras.layers import Bidirectional\n",
        "from tensorflow.keras.layers import GRU\n",
        "\n",
        "\n",
        "in_image = keras.Input(batch_shape=(None, 64, 64, 2))\n",
        "\n",
        "\n",
        "\n",
        "scaling = Rescaling(1./127.5, offset=-1)(in_image) # rescaling\n",
        "pl = GlobalAveragePooling2D()(scaling) # global average pooling, pretty much the same as flattening\n",
        "do = Dropout(0.2)(pl) # dropout at a rate of 20%\n",
        "fl = Flatten()(do)\n",
        "\n",
        "# image part \n",
        "# simple conv2d. you can change it to anything else as needed\n",
        "cov = Conv2D(32, (16, 16))(in_image)\n",
        "pl = MaxPool2D((16, 16))(cov)\n",
        "flattened = Flatten()(pl)\n",
        "\n",
        "\n",
        "\n",
        "# multi-task learning (each is a multi-class classification)\n",
        "# one dense layer for each task\n",
        "p_price = Dense(1, activation='linear', name='price')(flattened)\n",
        "\n",
        "\n",
        "# define model input/output using keys.\n",
        "bi_lstm_model = keras.Model(\n",
        "    inputs={\n",
        "        'image': in_image\n",
        "    },\n",
        "    outputs={\n",
        "        'price': p_price,\n",
        "\n",
        "    }\n",
        ")\n",
        "\n",
        "\n",
        "# compile model with optimizer, loss values for each task, loss \n",
        "# weights for each task.\n",
        "bi_lstm_model.compile(\n",
        "    optimizer=Adam(),\n",
        "    loss={\n",
        "        'price': 'mean_squared_error',\n",
        "    },\n",
        "    loss_weights={\n",
        "        'price': 0.5,       \n",
        "    },\n",
        "    metrics={\n",
        "        'price': ['mse'],\n",
        "    },\n",
        ")\n",
        "\n",
        "\n",
        "bi_lstm_model.summary()"
      ],
      "metadata": {
        "execution": {
          "iopub.status.busy": "2022-06-15T02:56:20.624031Z",
          "iopub.execute_input": "2022-06-15T02:56:20.624456Z",
          "iopub.status.idle": "2022-06-15T02:56:20.686038Z",
          "shell.execute_reply.started": "2022-06-15T02:56:20.624416Z",
          "shell.execute_reply": "2022-06-15T02:56:20.684877Z"
        },
        "trusted": true,
        "id": "yvCAfplVdtA-"
      },
      "execution_count": null,
      "outputs": []
    },
    {
      "cell_type": "code",
      "source": [
        "history = bi_lstm_model.fit(\n",
        "    x={\n",
        "        'ِart_series': x_train_text_id,\n",
        "        'image': x_train_image\n",
        "    },\n",
        "    y={\n",
        "        'price': y_train_price_log\n",
        "    },\n",
        "    epochs=20,\n",
        "    batch_size=16,\n",
        "    validation_split=0.2,\n",
        "    callbacks=[\n",
        "        tf.keras.callbacks.EarlyStopping(monitor='val_loss', patience=5, )\n",
        "    ],\n",
        "    verbose=1\n",
        ")"
      ],
      "metadata": {
        "execution": {
          "iopub.status.busy": "2022-06-15T02:56:27.091633Z",
          "iopub.execute_input": "2022-06-15T02:56:27.091939Z",
          "iopub.status.idle": "2022-06-15T02:59:01.533168Z",
          "shell.execute_reply.started": "2022-06-15T02:56:27.091906Z",
          "shell.execute_reply": "2022-06-15T02:59:01.532165Z"
        },
        "trusted": true,
        "id": "c0Pp91oQdtA_"
      },
      "execution_count": null,
      "outputs": []
    },
    {
      "cell_type": "markdown",
      "source": [
        "# nsfw  (text)"
      ],
      "metadata": {
        "id": "iKJI5NTadtBP"
      }
    },
    {
      "cell_type": "code",
      "source": [
        "!pip install tensorflow_text"
      ],
      "metadata": {
        "execution": {
          "iopub.status.busy": "2022-06-15T03:21:26.059846Z",
          "iopub.execute_input": "2022-06-15T03:21:26.060234Z",
          "iopub.status.idle": "2022-06-15T03:23:00.854644Z",
          "shell.execute_reply.started": "2022-06-15T03:21:26.060197Z",
          "shell.execute_reply": "2022-06-15T03:23:00.853408Z"
        },
        "trusted": true,
        "id": "olZtpXTydtBP"
      },
      "execution_count": null,
      "outputs": []
    },
    {
      "cell_type": "code",
      "source": [
        "!python -m pip install tensorflow_text"
      ],
      "metadata": {
        "execution": {
          "iopub.status.busy": "2022-06-15T03:23:00.857024Z",
          "iopub.execute_input": "2022-06-15T03:23:00.857325Z",
          "iopub.status.idle": "2022-06-15T03:23:09.681486Z",
          "shell.execute_reply.started": "2022-06-15T03:23:00.857287Z",
          "shell.execute_reply": "2022-06-15T03:23:09.680611Z"
        },
        "trusted": true,
        "id": "pdIHxBvBdtBQ"
      },
      "execution_count": null,
      "outputs": []
    },
    {
      "cell_type": "code",
      "source": [
        "pip install -q -U \"tensorflow-text==2.8.*\""
      ],
      "metadata": {
        "execution": {
          "iopub.status.busy": "2022-06-15T03:23:09.683339Z",
          "iopub.execute_input": "2022-06-15T03:23:09.683581Z",
          "iopub.status.idle": "2022-06-15T03:24:06.048721Z",
          "shell.execute_reply.started": "2022-06-15T03:23:09.683551Z",
          "shell.execute_reply": "2022-06-15T03:24:06.047600Z"
        },
        "trusted": true,
        "id": "-DfsHK7ZdtBQ"
      },
      "execution_count": null,
      "outputs": []
    },
    {
      "cell_type": "code",
      "source": [
        "!pip install /kaggle/input/tensorflow-text211/tensorflow_text-2.1.1-cp36-cp36m-manylinux1_x86_64.whl"
      ],
      "metadata": {
        "execution": {
          "iopub.status.busy": "2022-06-15T03:24:06.051026Z",
          "iopub.execute_input": "2022-06-15T03:24:06.051313Z",
          "iopub.status.idle": "2022-06-15T03:24:07.872028Z",
          "shell.execute_reply.started": "2022-06-15T03:24:06.051276Z",
          "shell.execute_reply": "2022-06-15T03:24:07.870885Z"
        },
        "trusted": true,
        "id": "8bjhJ423dtBQ"
      },
      "execution_count": null,
      "outputs": []
    },
    {
      "cell_type": "code",
      "source": [
        "import tensorflow as tf\n",
        "import tensorflow_hub as hub\n",
        "import tensorflow_text as text"
      ],
      "metadata": {
        "execution": {
          "iopub.status.busy": "2022-06-15T03:41:54.824567Z",
          "iopub.execute_input": "2022-06-15T03:41:54.824894Z",
          "iopub.status.idle": "2022-06-15T03:41:54.876180Z",
          "shell.execute_reply.started": "2022-06-15T03:41:54.824860Z",
          "shell.execute_reply": "2022-06-15T03:41:54.874643Z"
        },
        "trusted": true,
        "id": "2EhyRpPUdtBQ"
      },
      "execution_count": null,
      "outputs": []
    },
    {
      "cell_type": "code",
      "source": [
        ""
      ],
      "metadata": {
        "trusted": true,
        "id": "shTHMygKdtBR"
      },
      "execution_count": null,
      "outputs": []
    },
    {
      "cell_type": "code",
      "source": [
        "df_balanced = pd.concat([df_not_nsfw_downsampled, df_nsfw])\n",
        "df_balanced.shape"
      ],
      "metadata": {
        "execution": {
          "iopub.status.busy": "2022-06-15T03:43:37.137551Z",
          "iopub.execute_input": "2022-06-15T03:43:37.138296Z",
          "iopub.status.idle": "2022-06-15T03:43:37.169012Z",
          "shell.execute_reply.started": "2022-06-15T03:43:37.138255Z",
          "shell.execute_reply": "2022-06-15T03:43:37.167826Z"
        },
        "trusted": true,
        "id": "TzM5ABXxdtBR"
      },
      "execution_count": null,
      "outputs": []
    },
    {
      "cell_type": "code",
      "source": [
        "df_balanced"
      ],
      "metadata": {
        "execution": {
          "iopub.status.busy": "2022-06-15T03:43:37.194199Z",
          "iopub.execute_input": "2022-06-15T03:43:37.194480Z",
          "iopub.status.idle": "2022-06-15T03:43:37.220456Z",
          "shell.execute_reply.started": "2022-06-15T03:43:37.194448Z",
          "shell.execute_reply": "2022-06-15T03:43:37.219209Z"
        },
        "trusted": true,
        "id": "_dxB4gm9dtBR"
      },
      "execution_count": null,
      "outputs": []
    },
    {
      "cell_type": "code",
      "source": [
        "df_balanced['nsfw'].value_counts()"
      ],
      "metadata": {
        "execution": {
          "iopub.status.busy": "2022-06-15T03:43:37.271385Z",
          "iopub.execute_input": "2022-06-15T03:43:37.271943Z",
          "iopub.status.idle": "2022-06-15T03:43:37.300702Z",
          "shell.execute_reply.started": "2022-06-15T03:43:37.271898Z",
          "shell.execute_reply": "2022-06-15T03:43:37.299038Z"
        },
        "trusted": true,
        "id": "q8t778HAdtBS"
      },
      "execution_count": null,
      "outputs": []
    },
    {
      "cell_type": "code",
      "source": [
        "df_balanced['nsfw']=df_balanced['nsfw'].apply(lambda x: 1 if x==True else 0)\n",
        "df_balanced.sample(5)"
      ],
      "metadata": {
        "execution": {
          "iopub.status.busy": "2022-06-15T03:43:37.344847Z",
          "iopub.execute_input": "2022-06-15T03:43:37.345236Z",
          "iopub.status.idle": "2022-06-15T03:43:37.386808Z",
          "shell.execute_reply.started": "2022-06-15T03:43:37.345186Z",
          "shell.execute_reply": "2022-06-15T03:43:37.385216Z"
        },
        "trusted": true,
        "id": "ewOzmV59dtBS"
      },
      "execution_count": null,
      "outputs": []
    },
    {
      "cell_type": "code",
      "source": [
        "from sklearn.model_selection import train_test_split\n",
        "\n",
        "X_train, X_test, y_train, y_test = train_test_split(df_balanced['art_series'],df_balanced['nsfw'], stratify=df_balanced['nsfw'])"
      ],
      "metadata": {
        "execution": {
          "iopub.status.busy": "2022-06-15T03:43:37.429394Z",
          "iopub.execute_input": "2022-06-15T03:43:37.429751Z",
          "iopub.status.idle": "2022-06-15T03:43:37.464262Z",
          "shell.execute_reply.started": "2022-06-15T03:43:37.429712Z",
          "shell.execute_reply": "2022-06-15T03:43:37.463253Z"
        },
        "trusted": true,
        "id": "3D4KH8iidtBS"
      },
      "execution_count": null,
      "outputs": []
    },
    {
      "cell_type": "markdown",
      "source": [
        "import BERT model and get embeding vectors for few sample statements"
      ],
      "metadata": {
        "id": "QEk2RzgydtBS"
      }
    },
    {
      "cell_type": "code",
      "source": [
        "bert_preprocess = hub.KerasLayer(\"https://tfhub.dev/tensorflow/bert_en_uncased_preprocess/3\")\n",
        "bert_encoder = hub.KerasLayer(\"https://tfhub.dev/tensorflow/bert_en_uncased_L-12_H-768_A-12/4\")"
      ],
      "metadata": {
        "execution": {
          "iopub.status.busy": "2022-06-15T03:43:37.537586Z",
          "iopub.execute_input": "2022-06-15T03:43:37.539418Z",
          "iopub.status.idle": "2022-06-15T03:43:37.574150Z",
          "shell.execute_reply.started": "2022-06-15T03:43:37.539344Z",
          "shell.execute_reply": "2022-06-15T03:43:37.572801Z"
        },
        "trusted": true,
        "id": "ItndAPUmdtBT"
      },
      "execution_count": null,
      "outputs": []
    },
    {
      "cell_type": "code",
      "source": [
        "def get_sentence_embeding(sentences):\n",
        "    preprocessed_text = bert_preprocess(sentences)\n",
        "    return bert_encoder(preprocessed_text)['pooled_output']\n"
      ],
      "metadata": {
        "execution": {
          "iopub.status.busy": "2022-06-15T03:43:37.599982Z",
          "iopub.execute_input": "2022-06-15T03:43:37.600347Z",
          "iopub.status.idle": "2022-06-15T03:43:37.604802Z",
          "shell.execute_reply.started": "2022-06-15T03:43:37.600308Z",
          "shell.execute_reply": "2022-06-15T03:43:37.604193Z"
        },
        "trusted": true,
        "id": "c0SFCnW0dtBT"
      },
      "execution_count": null,
      "outputs": []
    },
    {
      "cell_type": "code",
      "source": [
        "# Bert layers\n",
        "text_input = tf.keras.layers.Input(shape=(), dtype=tf.string, name='text')\n",
        "preprocessed_text = bert_preprocess(text_input)\n",
        "outputs = bert_encoder(preprocessed_text)\n",
        "\n",
        "# Neural network layers\n",
        "l = tf.keras.layers.Dropout(0.1, name=\"dropout\")(outputs['pooled_output'])\n",
        "l = tf.keras.layers.Dense(1, activation='sigmoid', name=\"output\")(l)\n",
        "\n",
        "# Use inputs and outputs to construct a final model\n",
        "model = tf.keras.Model(inputs=[text_input], outputs = [l])"
      ],
      "metadata": {
        "execution": {
          "iopub.status.busy": "2022-06-15T03:43:37.656403Z",
          "iopub.execute_input": "2022-06-15T03:43:37.657248Z",
          "iopub.status.idle": "2022-06-15T03:43:37.699218Z",
          "shell.execute_reply.started": "2022-06-15T03:43:37.657201Z",
          "shell.execute_reply": "2022-06-15T03:43:37.697699Z"
        },
        "trusted": true,
        "id": "_M3w2w_ndtBT"
      },
      "execution_count": null,
      "outputs": []
    },
    {
      "cell_type": "code",
      "source": [
        "model.summary()"
      ],
      "metadata": {
        "execution": {
          "iopub.status.busy": "2022-06-15T03:43:37.704969Z",
          "iopub.execute_input": "2022-06-15T03:43:37.705955Z",
          "iopub.status.idle": "2022-06-15T03:43:37.738223Z",
          "shell.execute_reply.started": "2022-06-15T03:43:37.705895Z",
          "shell.execute_reply": "2022-06-15T03:43:37.736968Z"
        },
        "trusted": true,
        "id": "gvRxMxWSdtBU"
      },
      "execution_count": null,
      "outputs": []
    },
    {
      "cell_type": "code",
      "source": [
        "METRICS = [\n",
        "      tf.keras.metrics.BinaryAccuracy(name='accuracy'),\n",
        "      tf.keras.metrics.Precision(name='precision'),\n",
        "      tf.keras.metrics.Recall(name='recall')\n",
        "]\n",
        "\n",
        "model.compile(optimizer='adam',\n",
        "              loss='binary_crossentropy',\n",
        "              metrics=METRICS)"
      ],
      "metadata": {
        "execution": {
          "iopub.status.busy": "2022-06-15T03:43:37.742877Z",
          "iopub.execute_input": "2022-06-15T03:43:37.744039Z",
          "iopub.status.idle": "2022-06-15T03:43:37.789746Z",
          "shell.execute_reply.started": "2022-06-15T03:43:37.743992Z",
          "shell.execute_reply": "2022-06-15T03:43:37.787954Z"
        },
        "trusted": true,
        "id": "_dvudtpAdtBU"
      },
      "execution_count": null,
      "outputs": []
    },
    {
      "cell_type": "code",
      "source": [
        "model.fit(X_train, y_train, epochs=30)"
      ],
      "metadata": {
        "execution": {
          "iopub.status.busy": "2022-06-15T03:43:37.791215Z",
          "iopub.status.idle": "2022-06-15T03:43:37.791626Z",
          "shell.execute_reply.started": "2022-06-15T03:43:37.791429Z",
          "shell.execute_reply": "2022-06-15T03:43:37.791449Z"
        },
        "trusted": true,
        "id": "TUpMBBaudtBU"
      },
      "execution_count": null,
      "outputs": []
    },
    {
      "cell_type": "code",
      "source": [
        "y_predicted = model.predict(X_test)\n",
        "y_predicted = y_predicted.flatten()"
      ],
      "metadata": {
        "execution": {
          "iopub.status.busy": "2022-06-15T03:43:37.823546Z",
          "iopub.execute_input": "2022-06-15T03:43:37.823877Z",
          "iopub.status.idle": "2022-06-15T03:43:37.857750Z",
          "shell.execute_reply.started": "2022-06-15T03:43:37.823846Z",
          "shell.execute_reply": "2022-06-15T03:43:37.856197Z"
        },
        "trusted": true,
        "id": "dc3VTiZZdtBU"
      },
      "execution_count": null,
      "outputs": []
    },
    {
      "cell_type": "code",
      "source": [
        "import numpy as np\n",
        "\n",
        "y_predicted = np.where(y_predicted > 0.5, 1, 0)"
      ],
      "metadata": {
        "execution": {
          "iopub.status.busy": "2022-06-15T03:43:37.864642Z",
          "iopub.execute_input": "2022-06-15T03:43:37.864997Z",
          "iopub.status.idle": "2022-06-15T03:43:37.900218Z",
          "shell.execute_reply.started": "2022-06-15T03:43:37.864959Z",
          "shell.execute_reply": "2022-06-15T03:43:37.898573Z"
        },
        "trusted": true,
        "id": "PKAZB_BwdtBV"
      },
      "execution_count": null,
      "outputs": []
    },
    {
      "cell_type": "code",
      "source": [
        "from sklearn.metrics import confusion_matrix, classification_report\n",
        "\n",
        "cm = confusion_matrix(y_test, y_predicted)\n",
        "cm "
      ],
      "metadata": {
        "execution": {
          "iopub.status.busy": "2022-06-15T03:43:37.912175Z",
          "iopub.execute_input": "2022-06-15T03:43:37.912745Z",
          "iopub.status.idle": "2022-06-15T03:43:37.947837Z",
          "shell.execute_reply.started": "2022-06-15T03:43:37.912697Z",
          "shell.execute_reply": "2022-06-15T03:43:37.946332Z"
        },
        "trusted": true,
        "id": "VvQ2gBPsdtBV"
      },
      "execution_count": null,
      "outputs": []
    },
    {
      "cell_type": "code",
      "source": [
        ""
      ],
      "metadata": {
        "id": "uWA1XaaGdtBW"
      },
      "execution_count": null,
      "outputs": []
    }
  ]
}